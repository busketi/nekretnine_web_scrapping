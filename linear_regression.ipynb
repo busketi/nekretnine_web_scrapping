{
 "cells": [
  {
   "cell_type": "code",
   "execution_count": 67,
   "metadata": {},
   "outputs": [],
   "source": [
    "import sqlite3\n",
    "import pandas as pd\n",
    "import math\n",
    "import numpy as np\n",
    "from sklearn.preprocessing import MinMaxScaler\n",
    "from sklearn.preprocessing import PolynomialFeatures\n",
    "from sklearn.preprocessing import scale\n",
    "from sklearn.feature_selection import RFE\n",
    "from sklearn.linear_model import LinearRegression\n",
    "from sklearn.model_selection import cross_val_score\n",
    "from sklearn.model_selection import KFold\n",
    "from sklearn.model_selection import GridSearchCV\n",
    "from sklearn.pipeline import make_pipeline\n",
    "from sklearn import preprocessing\n",
    "from sklearn.model_selection import train_test_split\n",
    "from sklearn.neighbors import KNeighborsClassifier\n",
    "from sklearn.linear_model import LinearRegression\n",
    "import matplotlib.pyplot as plt\n",
    "import seaborn as sns\n",
    "from sklearn.metrics import classification_report, confusion_matrix, accuracy_score\n",
    "from sklearn.model_selection import KFold\n",
    "from sklearn.metrics import mean_squared_error\n",
    "from sklearn.model_selection import cross_validate\n",
    "\n",
    "\n",
    "\n"
   ]
  },
  {
   "cell_type": "code",
   "execution_count": null,
   "metadata": {},
   "outputs": [],
   "source": []
  },
  {
   "cell_type": "code",
   "execution_count": 68,
   "metadata": {},
   "outputs": [],
   "source": [
    "def calculate_distance(lat1, lon1):\n",
    "    # Radius of the Earth in kilometers\n",
    "    earth_radius = 6371\n",
    "\n",
    "    # Convert latitude and longitude to radians\n",
    "    lat1_rad = math.radians(lat1)\n",
    "    lon1_rad = math.radians(lon1)\n",
    "    lat2_rad = math.radians(44.4914)\n",
    "    lon2_rad = math.radians(20.2744)\n",
    "\n",
    "    # Calculate the differences between the latitudes and longitudes\n",
    "    d_lat = lat2_rad - lat1_rad\n",
    "    d_lon = lon2_rad - lon1_rad\n",
    "\n",
    "    # Apply the Haversine formula\n",
    "    a = math.sin(d_lat/2)**2 + math.cos(lat1_rad) * math.cos(lat2_rad) * math.sin(d_lon/2)**2\n",
    "    c = 2 * math.atan2(math.sqrt(a), math.sqrt(1-a))\n",
    "    distance = earth_radius * c\n",
    "\n",
    "    return distance"
   ]
  },
  {
   "cell_type": "code",
   "execution_count": 69,
   "metadata": {},
   "outputs": [],
   "source": [
    "import sqlite3\n",
    "\n",
    "values = [\"SUT\", \"PSUT\", \"PR\", \"VPR\"]\n",
    "\n",
    "mapping = {\n",
    "    \"SUT\": 0,\n",
    "    \"PSUT\": 0.25,\n",
    "    \"PR\": 0.5,\n",
    "    \"VPR\": 0.75\n",
    "}\n",
    "\n",
    "# Connect to the database\n",
    "conn = sqlite3.connect('db_prodaja-stanova_beograd.db')\n",
    "\n",
    "# Create a cursor object\n",
    "cursor = conn.cursor()\n",
    "df = pd.read_sql_query(\"SELECT * FROM mytable\", conn)\n",
    "\n",
    "# Execute a SELECT query\n",
    "cursor.execute(\"SELECT * FROM mytable\")\n",
    "\n",
    "X_data = list()\n",
    "Y_data = list()\n",
    "full_data = list()\n",
    "\n",
    "# Fetch and print rows one by one\n",
    "row1 = cursor.fetchone()\n",
    "row = cursor.fetchone()\n",
    "while row is not None:\n",
    "    # print(row)\n",
    "    coordinates = row[4]\n",
    "    latitude, longitude = coordinates.split(',')\n",
    "    distance = calculate_distance(float(latitude), float(longitude))\n",
    "    \n",
    "\n",
    "    broj_soba = row[5]\n",
    "\n",
    "    if broj_soba == None:\n",
    "        row = cursor.fetchone()\n",
    "        continue\n",
    "    broj_soba = float(broj_soba) if broj_soba != '5+' else 5.0\n",
    "\n",
    "\n",
    "    kvadratura = float(row[6])\n",
    "    if kvadratura == None:\n",
    "        row = cursor.fetchone()\n",
    "        continue\n",
    "\n",
    "\n",
    "    sprat = row[7]\n",
    "    if sprat == None:\n",
    "        row = cursor.fetchone()\n",
    "        # print(sprat)\n",
    "        continue\n",
    "    if sprat in values:\n",
    "        sprat = mapping[sprat]\n",
    "    else:\n",
    "        sprat = float(sprat)\n",
    "    sprat = math.log2(sprat + 1)\n",
    "\n",
    "\n",
    "    # print(row)\n",
    "\n",
    "    tip_gradnje = row[8]\n",
    "    tip_gradnje = 1 if tip_gradnje == 'Novogradnja' else 0\n",
    "    # else:\n",
    "    #     break\n",
    "    uknjizen = float(row[9])\n",
    "    lift = float(row[10])\n",
    "    garaza = float(row[11])\n",
    "    terasa = float(row[12])\n",
    "    pdv = float(row[13])\n",
    "\n",
    "    cena = float(row[16])\n",
    "    # , legal, air_c, elevator, garage\n",
    "\n",
    "    row_x_data = [distance, broj_soba, kvadratura, sprat, cena]\n",
    "    row_full_data = [distance, broj_soba, kvadratura, sprat, cena]\n",
    "    full_data.append(row_full_data)\n",
    "    X_data.append(row_x_data)\n",
    "    Y_data.append(cena)\n",
    "\n",
    "    row = cursor.fetchone()\n",
    "\n",
    "# Close the connection\n",
    "conn.close()"
   ]
  },
  {
   "cell_type": "code",
   "execution_count": 70,
   "metadata": {},
   "outputs": [
    {
     "data": {
      "image/png": "[encoded data removed]",
      "text/plain": [
       "<Figure size 842.4x595.44 with 2 Axes>"
      ]
     },
     "metadata": {},
     "output_type": "display_data"
    }
   ],
   "source": [
    "header = ['distance', 'broj_soba', 'kvadratura', 'sprat', 'cena']\n",
    "df = pd.DataFrame(full_data, columns=header)\n",
    "# price_ranges = [0, 50000, 100000, 150000, 200000, 500000, float('inf')]\n",
    "# categories = [0,1,2,3,4,5]\n",
    "# corrM = df.corr()\n",
    "# corrM\n",
    "sns.set(rc={'figure.figsize':(11.7,8.27)})\n",
    "dataplot = sns.heatmap(df.corr(), cmap=\"YlGnBu\", annot=True)"
   ]
  },
  {
   "cell_type": "code",
   "execution_count": 71,
   "metadata": {},
   "outputs": [
    {
     "data": {
      "text/html": [
       "<div>\n",
       "<style scoped>\n",
       "    .dataframe tbody tr th:only-of-type {\n",
       "        vertical-align: middle;\n",
       "    }\n",
       "\n",
       "    .dataframe tbody tr th {\n",
       "        vertical-align: top;\n",
       "    }\n",
       "\n",
       "    .dataframe thead th {\n",
       "        text-align: right;\n",
       "    }\n",
       "</style>\n",
       "<table border=\"1\" class=\"dataframe\">\n",
       "  <thead>\n",
       "    <tr style=\"text-align: right;\">\n",
       "      <th></th>\n",
       "      <th>distance</th>\n",
       "      <th>broj_soba</th>\n",
       "      <th>kvadratura</th>\n",
       "      <th>sprat</th>\n",
       "      <th>cena</th>\n",
       "    </tr>\n",
       "  </thead>\n",
       "  <tbody>\n",
       "    <tr>\n",
       "      <th>0</th>\n",
       "      <td>39.127679</td>\n",
       "      <td>3.0</td>\n",
       "      <td>68.0</td>\n",
       "      <td>1.000000</td>\n",
       "      <td>194000.0</td>\n",
       "    </tr>\n",
       "    <tr>\n",
       "      <th>1</th>\n",
       "      <td>35.570932</td>\n",
       "      <td>2.5</td>\n",
       "      <td>75.0</td>\n",
       "      <td>3.459432</td>\n",
       "      <td>155000.0</td>\n",
       "    </tr>\n",
       "    <tr>\n",
       "      <th>2</th>\n",
       "      <td>34.167384</td>\n",
       "      <td>3.0</td>\n",
       "      <td>69.0</td>\n",
       "      <td>2.000000</td>\n",
       "      <td>265000.0</td>\n",
       "    </tr>\n",
       "    <tr>\n",
       "      <th>3</th>\n",
       "      <td>37.692401</td>\n",
       "      <td>4.0</td>\n",
       "      <td>146.0</td>\n",
       "      <td>4.169925</td>\n",
       "      <td>665000.0</td>\n",
       "    </tr>\n",
       "    <tr>\n",
       "      <th>4</th>\n",
       "      <td>37.751948</td>\n",
       "      <td>4.0</td>\n",
       "      <td>125.0</td>\n",
       "      <td>2.000000</td>\n",
       "      <td>480000.0</td>\n",
       "    </tr>\n",
       "  </tbody>\n",
       "</table>\n",
       "</div>"
      ],
      "text/plain": [
       "    distance  broj_soba  kvadratura     sprat      cena\n",
       "0  39.127679        3.0        68.0  1.000000  194000.0\n",
       "1  35.570932        2.5        75.0  3.459432  155000.0\n",
       "2  34.167384        3.0        69.0  2.000000  265000.0\n",
       "3  37.692401        4.0       146.0  4.169925  665000.0\n",
       "4  37.751948        4.0       125.0  2.000000  480000.0"
      ]
     },
     "execution_count": 71,
     "metadata": {},
     "output_type": "execute_result"
    }
   ],
   "source": [
    "# df['cena'] = pd.cut(df['cena'], bins=price_ranges, labels=categories)\n",
    "df.head()"
   ]
  },
  {
   "cell_type": "code",
   "execution_count": 72,
   "metadata": {},
   "outputs": [],
   "source": [
    "header = ['distance', 'broj_soba', 'kvadratura', 'sprat', 'cena']\n",
    "df_x = pd.DataFrame(X_data, columns=header)\n",
    "y_data = df_x['cena']\n",
    "MinMaxScaler = preprocessing.MinMaxScaler()\n",
    "df_x.pop(\"cena\")\n",
    "\n",
    "X1 = df_x.values\n",
    "y = y_data.values\n",
    "# X_data_minmax = MinMaxScaler.fit_transform(X_data)"
   ]
  },
  {
   "cell_type": "code",
   "execution_count": 73,
   "metadata": {},
   "outputs": [],
   "source": [
    "X_train, X_test, y_train, y_test = train_test_split(X_data, y_data,test_size=0.2, random_state = 1)\n",
    "X_train = MinMaxScaler.fit_transform(X_train)\n",
    "X_test = MinMaxScaler.fit_transform(X_test)"
   ]
  },
  {
   "cell_type": "code",
   "execution_count": 74,
   "metadata": {},
   "outputs": [],
   "source": [
    "from sklearn.model_selection import KFold\n",
    "\n",
    "k = 4\n",
    "kf = KFold(n_splits=k, shuffle=True)"
   ]
  },
  {
   "cell_type": "code",
   "execution_count": 75,
   "metadata": {},
   "outputs": [
    {
     "name": "stdout",
     "output_type": "stream",
     "text": [
      "Train: [    0     2     3 ... 11979 11981 11983]\n",
      "Test: [    1     4    13 ... 11969 11980 11982]\n",
      "-------\n",
      "Train: [    1     2     4 ... 11981 11982 11983]\n",
      "Test: [    0     3     9 ... 11968 11973 11974]\n",
      "-------\n",
      "Train: [    0     1     2 ... 11980 11982 11983]\n",
      "Test: [    7    17    19 ... 11977 11979 11981]\n",
      "-------\n",
      "Train: [    0     1     3 ... 11980 11981 11982]\n",
      "Test: [    2     5     6 ... 11976 11978 11983]\n",
      "-------\n"
     ]
    }
   ],
   "source": [
    "for train_index, test_index in kf.split(X, y):\n",
    "    print(\"Train:\", train_index)\n",
    "    print(\"Test:\", test_index)\n",
    "    print('-------')"
   ]
  },
  {
   "cell_type": "code",
   "execution_count": 83,
   "metadata": {},
   "outputs": [
    {
     "name": "stdout",
     "output_type": "stream",
     "text": [
      "(9587, 3)\n",
      "(9587, 4)\n",
      "(9587, 10)\n",
      "(9587, 20)\n",
      "(9587, 35)\n",
      "[11878081398.479797, 11871164312.536972, 13043556066.399422, 38997930130.86875]\n"
     ]
    },
    {
     "data": {
      "text/plain": [
       "Text(0.5, 1.0, 'MSE VS Degree')"
      ]
     },
     "execution_count": 83,
     "metadata": {},
     "output_type": "execute_result"
    },
    {
     "data": {
      "image/png": "[encoded data removed]",
      "text/plain": [
       "<Figure size 432x432 with 1 Axes>"
      ]
     },
     "metadata": {},
     "output_type": "display_data"
    }
   ],
   "source": [
    "X = MinMaxScaler.fit_transform(X1)\n",
    "x_train,x_test,y_train,y_test=train_test_split(X[:,:-1],y,train_size=0.8)\n",
    "print(np.shape(x_train))\n",
    "maxdegree=5 # The maximum degree we would like to test\n",
    "training_error=[]\n",
    "cross_validation_error=[]\n",
    "for d in range(1,maxdegree):\n",
    "    x_poly_train=PolynomialFeatures(degree=(0,d)).fit_transform(x_train)\n",
    "    print(np.shape(x_poly_train))\n",
    "    x_poly_test=PolynomialFeatures(degree=(0,d)).fit_transform(x_test)\n",
    "    model=LinearRegression(for_intercept = False)\n",
    "    model=model.fit(x_poly_train,y_train)\n",
    "    y_train_pred=model.predict(x_poly_train)\n",
    "    mse_train=mean_squared_error(y_train,y_train_pred)\n",
    "    cve=cross_validate(model,x_poly_train,y_train,scoring='neg_mean_squared_error',cv=5,return_train_score=True)\n",
    "    training_error.append(mse_train)\n",
    "    cross_validation_error.append(np.mean(np.absolute(cve['test_score'])))\n",
    "fig,ax=plt.subplots(figsize=(6,6))\n",
    "print(cross_validation_error)\n",
    "ax.plot(range(1,maxdegree),cross_validation_error)\n",
    "ax.set_xlabel('Degree',fontsize=20)\n",
    "ax.set_ylabel('MSE',fontsize=20)\n",
    "ax.set_title('MSE VS Degree',fontsize=25)"
   ]
  },
  {
   "cell_type": "code",
   "execution_count": 77,
   "metadata": {},
   "outputs": [],
   "source": [
    "# test_mse = []\n",
    "# degrees = range(1, 21)\n",
    "\n",
    "\n",
    "# for train_index, test_index in kf.split(X, y):\n",
    "    \n",
    "#     split_mse = []\n",
    "    \n",
    "#     for deg in degrees:\n",
    "        \n",
    "#         w = np.polyfit(X[train_index], y[train_index], deg)\n",
    "#         y = np.polyval(w, X[test_index])\n",
    "        \n",
    "#         mse = np.mean((t[test_index] - y)**2)\n",
    "#         split_mse.append(mse)\n",
    "    \n",
    "#     test_mse.append(split_mse)\n",
    "        \n",
    "# test_mse = np.mean(test_mse, axis=0)\n",
    "\n",
    "# for deg, mse in zip(degrees, test_mse):\n",
    "#     print(deg, mse)\n",
    "\n",
    "# plt.figure(figsize=(10, 6))\n",
    "# plt.plot(degrees, test_mse)\n",
    "# plt.xlabel(\"Degree of the polynome\")\n",
    "# plt.ylabel(\"k-fold cross-validated mse\")\n",
    "# plt.show()"
   ]
  },
  {
   "cell_type": "code",
   "execution_count": 78,
   "metadata": {},
   "outputs": [
    {
     "data": {
      "text/plain": [
       "array([[ 1.,  1.,  2.,  3.,  4.,  1.,  2.,  3.,  4.,  4.,  6.,  8.,  9.,\n",
       "        12., 16.]])"
      ]
     },
     "execution_count": 78,
     "metadata": {},
     "output_type": "execute_result"
    }
   ],
   "source": [
    "PolynomialFeatures(degree=(0,2)).fit_transform([[1,2,3,4]])\n"
   ]
  }
 ],
 "metadata": {
  "kernelspec": {
   "display_name": "Python 3",
   "language": "python",
   "name": "python3"
  },
  "language_info": {
   "codemirror_mode": {
    "name": "ipython",
    "version": 3
   },
   "file_extension": ".py",
   "mimetype": "text/x-python",
   "name": "python",
   "nbconvert_exporter": "python",
   "pygments_lexer": "ipython3",
   "version": "3.9.13"
  },
  "orig_nbformat": 4
 },
 "nbformat": 4,
 "nbformat_minor": 2
}
